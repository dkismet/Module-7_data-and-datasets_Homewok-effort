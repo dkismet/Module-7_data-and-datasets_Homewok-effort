{
 "cells": [
  {
   "cell_type": "markdown",
   "id": "0d294e99",
   "metadata": {},
   "source": [
    "# Module 7: Introduction to Data, Datasets, and Basic Python\n",
    "\n",
    "*****************\n",
    "\n",
    "### What is Data?\n",
    "\n",
    "Data are individual units of information. In analytics, data are represented by variables. Data can include the names of everyone in a community, the height of each player on a basketball team, the life-expectency rate for several different countries, a description of symptoms from a patient over the course of a hospital stay, or the text from several articles about a specific topic. Data is endless, and as more avenues become available for collecting information, traditional data is expanding into BIG data. \n",
    "\n",
    "### Structure of a Dataset\n",
    "\n",
    "In this course, we will be focusing exclusively on <b>structured</b> data -- that is, data that is already organized into a neat and pridictable structure. This includes storing data in columns and rows which makes it easy to understand and manipulate. \n",
    "\n",
    "![alt text](dataset.png \"Structure of a Dataset\")\n",
    "\n",
    "### Variables, Values, Observations\n",
    "\n",
    "* Data is typically stored in groups for easier manipulation and organization. \n",
    "* <b>VALUES</b> are individual bits of data. Values can include a number, a sentence, a symbol, an address, etc. Several values can be stored within a variable for easy access. \n",
    "    - Integer: a whole number (87)\n",
    "    - Float: a decimal (6.87)\n",
    "    - String value: alpha-numeric - \"Hello\"\n",
    "* <b>VARIABLES</b> are containers for a specific series of values. A variable can hold one or several values. For example, a variable called <b>names</b> contains all the names of a group of students. "
   ]
  },
  {
   "cell_type": "markdown",
   "id": "20901ff3",
   "metadata": {},
   "source": [
    "# Importing Data into Notebook with Python\n",
    "\n",
    "***************************\n",
    "\n",
    "#### Working with Structured Datasets\n",
    "\n",
    "In this course, we will be working with structured datasets that are easy to explore and manipulate. Once you learn the basics of how to work with this style of data, you will be able to apply what you learn to numerous other datasets. It is possible to construct a dataset from scratch using Python (we will learn more about this later) -- but for now, we are going to work on importing already created datasets into your notebook.\n",
    "\n",
    "\n",
    "#### What is a library?\n",
    "\n",
    "Libraries are packages of pre-defined functions that are not included in basic python. You will need to manually import each library you want to access -- once imported, you can use all the libraries functions throughout the entire notebook. We will use multiple libraries throughout the duration of this course but we will start with the one library we will use in each class going forward - PANDAS. \n",
    "\n",
    "#### Intro to the Pandas Library \n",
    "\n",
    "Pandas stands for <b><i>Python Data Analysis Library</i></b>. This package makes working with and analyzing data with Python very easy and is one of the most preferred and used tools in data exploration/manipulation. Starting with Pandas will give you a fast and useful introduction to working with data and luckily, pandas is able to take data (like a CSV file) and transforms it into a Python object called a <b><i>DataFrame</i></b>. This is the same structure we consider a dataset. "
   ]
  },
  {
   "cell_type": "markdown",
   "id": "e024f3e6",
   "metadata": {},
   "source": [
    "#### Pandas Library"
   ]
  },
  {
   "cell_type": "code",
   "execution_count": null,
   "id": "96d8a17a",
   "metadata": {},
   "outputs": [],
   "source": [
    "import pandas as pd"
   ]
  },
  {
   "cell_type": "markdown",
   "id": "13e9d92e",
   "metadata": {},
   "source": [
    "#### Importing a Dataset"
   ]
  },
  {
   "cell_type": "code",
   "execution_count": null,
   "id": "f78d3e2c",
   "metadata": {},
   "outputs": [],
   "source": [
    "df = pd.read_csv(\"pokemon.csv\")"
   ]
  },
  {
   "cell_type": "markdown",
   "id": "712727ec",
   "metadata": {},
   "source": [
    "#### Displaying the Dataset"
   ]
  },
  {
   "cell_type": "code",
   "execution_count": null,
   "id": "237fca24",
   "metadata": {},
   "outputs": [],
   "source": [
    "df"
   ]
  },
  {
   "cell_type": "code",
   "execution_count": null,
   "id": "aa12724c",
   "metadata": {},
   "outputs": [],
   "source": [
    "df.head(15)"
   ]
  },
  {
   "cell_type": "code",
   "execution_count": null,
   "id": "72894415",
   "metadata": {},
   "outputs": [],
   "source": [
    "df.tail()"
   ]
  },
  {
   "cell_type": "code",
   "execution_count": null,
   "id": "6042620f",
   "metadata": {},
   "outputs": [],
   "source": [
    "df.head(10)"
   ]
  },
  {
   "cell_type": "markdown",
   "id": "13551ea7",
   "metadata": {},
   "source": [
    "#### Data Attributes"
   ]
  },
  {
   "cell_type": "code",
   "execution_count": null,
   "id": "1c0ede7f",
   "metadata": {},
   "outputs": [],
   "source": [
    "df.info()"
   ]
  },
  {
   "cell_type": "markdown",
   "id": "86ce1252",
   "metadata": {},
   "source": [
    "## { Exercise 1 }\n",
    "\n",
    "Import the \"dental.csv\" file that is saved on canvas. \n",
    "\n",
    "* name the file \"dt\" when you import it\n",
    "* preview the first 6 rows\n",
    "* preview the last 4 rows\n",
    "* use the code to find the information about the dataset. how many columns are there? how many rows?"
   ]
  },
  {
   "cell_type": "code",
   "execution_count": null,
   "id": "a400778a",
   "metadata": {},
   "outputs": [],
   "source": []
  },
  {
   "cell_type": "code",
   "execution_count": null,
   "id": "fd97442d",
   "metadata": {},
   "outputs": [],
   "source": []
  },
  {
   "cell_type": "code",
   "execution_count": null,
   "id": "11be628a",
   "metadata": {},
   "outputs": [],
   "source": []
  },
  {
   "cell_type": "code",
   "execution_count": null,
   "id": "28f3c3e8",
   "metadata": {},
   "outputs": [],
   "source": []
  },
  {
   "cell_type": "markdown",
   "id": "de48bfe4",
   "metadata": {},
   "source": [
    "#### Highlighting and Selecting Columns"
   ]
  },
  {
   "cell_type": "code",
   "execution_count": null,
   "id": "b849423a",
   "metadata": {},
   "outputs": [],
   "source": [
    "df[\"Name\"]"
   ]
  },
  {
   "cell_type": "code",
   "execution_count": null,
   "id": "5f5a859b",
   "metadata": {},
   "outputs": [],
   "source": [
    "df[\"Name\"][0]"
   ]
  },
  {
   "cell_type": "code",
   "execution_count": null,
   "id": "1ce2f37f",
   "metadata": {},
   "outputs": [],
   "source": [
    "df[[\"Name\"]]"
   ]
  },
  {
   "cell_type": "code",
   "execution_count": null,
   "id": "824ba991",
   "metadata": {},
   "outputs": [],
   "source": [
    "df[[\"Name\", \"Type 1\", \"Stage\"]]"
   ]
  },
  {
   "cell_type": "code",
   "execution_count": null,
   "id": "000efe3b",
   "metadata": {},
   "outputs": [],
   "source": [
    "## creating a new dataset from an existing\n",
    "# pick and choose the columns you want to include\n",
    "\n",
    "df2 = df[[\"Name\", \"Type 1\", \"Type 2\", \"Stage\"]]\n",
    "\n",
    "# preview the new dataset\n",
    "\n",
    "df2.head()"
   ]
  },
  {
   "cell_type": "markdown",
   "id": "9e2b595d",
   "metadata": {},
   "source": [
    "## { Exercise 2 }\n",
    "\n",
    "Using the \"dental.csv\" file that you imported in the earlier exercise:\n",
    "\n",
    "* select the column that shows the persons first name \n",
    "* select the column that shows the age of the dental patients\n",
    "* select the first row of the column that shows if the patient has insurance\n",
    "* return four columns (you pick) using one line of code\n",
    "* create a new dataset called \"dt2\" that only includes first name, age, and gender"
   ]
  },
  {
   "cell_type": "code",
   "execution_count": null,
   "id": "d8ea4638",
   "metadata": {},
   "outputs": [],
   "source": []
  },
  {
   "cell_type": "code",
   "execution_count": null,
   "id": "b321e6bc",
   "metadata": {},
   "outputs": [],
   "source": []
  },
  {
   "cell_type": "code",
   "execution_count": null,
   "id": "9d4406b7",
   "metadata": {},
   "outputs": [],
   "source": []
  },
  {
   "cell_type": "markdown",
   "id": "0bab1975",
   "metadata": {},
   "source": [
    "### Indexing and Slicing a Dataset: iloc method\n",
    "\n",
    "Indexing in python is zero-based (numbering starts with 0). Index recalls the item that is at a specific position. When you are working with datasets, the indexing references the rows and columns of the entire dataset. \n",
    "\n",
    "* The iloc method selects rows and columns based on the index value. "
   ]
  },
  {
   "cell_type": "code",
   "execution_count": null,
   "id": "28734983",
   "metadata": {},
   "outputs": [],
   "source": [
    "df.head()"
   ]
  },
  {
   "cell_type": "markdown",
   "id": "65deee20",
   "metadata": {},
   "source": [
    "#### Selecting Rows with iloc"
   ]
  },
  {
   "cell_type": "code",
   "execution_count": null,
   "id": "651015f0",
   "metadata": {},
   "outputs": [],
   "source": [
    "# selecting a specific row\n",
    "\n",
    "df.iloc[0]"
   ]
  },
  {
   "cell_type": "code",
   "execution_count": null,
   "id": "4dcae4f1",
   "metadata": {},
   "outputs": [],
   "source": [
    "# selecting a specific row\n",
    "\n",
    "df.iloc[4]"
   ]
  },
  {
   "cell_type": "code",
   "execution_count": null,
   "id": "a0a49a23",
   "metadata": {},
   "outputs": [],
   "source": [
    "# slicing a dataset\n",
    "# rows 0 through 5\n",
    "\n",
    "df.iloc[0:6]"
   ]
  },
  {
   "cell_type": "code",
   "execution_count": null,
   "id": "2026545d",
   "metadata": {},
   "outputs": [],
   "source": [
    "# slicing a dataset\n",
    "# skipping rows with step option\n",
    "\n",
    "df.iloc[0:11:2]"
   ]
  },
  {
   "cell_type": "code",
   "execution_count": null,
   "id": "d98c5cc2",
   "metadata": {},
   "outputs": [],
   "source": [
    "# slicing a dataset\n",
    "# skipping rows with step option\n",
    "\n",
    "df.iloc[0:11:3]"
   ]
  },
  {
   "cell_type": "code",
   "execution_count": null,
   "id": "ae1131eb",
   "metadata": {
    "scrolled": true
   },
   "outputs": [],
   "source": [
    "# selecting non-consecutive rows\n",
    "\n",
    "df.iloc[[0, 17, 38]]"
   ]
  },
  {
   "cell_type": "markdown",
   "id": "9c25e667",
   "metadata": {},
   "source": [
    "#### Selecting Columns with iloc"
   ]
  },
  {
   "cell_type": "code",
   "execution_count": null,
   "id": "c5159917",
   "metadata": {},
   "outputs": [],
   "source": [
    "# selecting rows and columns by index \n",
    "# df.iloc[row index, column index]\n",
    "\n",
    "# what information can be found at row 0 column 1?\n",
    "\n",
    "df.iloc[0,1]"
   ]
  },
  {
   "cell_type": "code",
   "execution_count": null,
   "id": "b8fc110f",
   "metadata": {},
   "outputs": [],
   "source": [
    "# what information can be found at row 10 column 3?\n",
    "\n",
    "df.iloc[10,3]"
   ]
  },
  {
   "cell_type": "code",
   "execution_count": null,
   "id": "a48f8129",
   "metadata": {},
   "outputs": [],
   "source": [
    "# selecting multiple columns \n",
    "\n",
    "# selecting row 10, columns 0 through 3\n",
    "\n",
    "df.iloc[10, 0:4]"
   ]
  },
  {
   "cell_type": "code",
   "execution_count": null,
   "id": "c91a949f",
   "metadata": {},
   "outputs": [],
   "source": [
    "# selecting non-consecutive columns with iloc\n",
    "\n",
    "df.iloc[10, [0, 2, 4]]"
   ]
  },
  {
   "cell_type": "code",
   "execution_count": null,
   "id": "1f7e1736",
   "metadata": {},
   "outputs": [],
   "source": [
    "# selecting non-consecutive columns with iloc\n",
    "# return output as dataframe style \n",
    "\n",
    "df.iloc[[10], [0, 2, 4]]"
   ]
  },
  {
   "cell_type": "code",
   "execution_count": null,
   "id": "c494bb5c",
   "metadata": {},
   "outputs": [],
   "source": [
    "# selecting non-consecutive rows and columns\n",
    "\n",
    "df.iloc[[0, 6, 12], [1, 3, 5]]"
   ]
  },
  {
   "cell_type": "code",
   "execution_count": null,
   "id": "4888eb05",
   "metadata": {},
   "outputs": [],
   "source": [
    "# selecting all rows for specific columns\n",
    "# use \" : \" to represent all rows \n",
    "\n",
    "df.iloc[:, [0, 3, 6]]"
   ]
  },
  {
   "cell_type": "code",
   "execution_count": null,
   "id": "c1ee49af",
   "metadata": {},
   "outputs": [],
   "source": [
    "## selecting all columns for specific rows\n",
    "\n",
    "df.iloc[[3, 5, 10], :]"
   ]
  },
  {
   "cell_type": "markdown",
   "id": "924a161b",
   "metadata": {},
   "source": [
    "## { Exercise 3 }\n",
    "\n",
    "Using the \"dental.csv\" file that you imported in the earlier exercise:\n",
    "\n",
    "* view the first 10 rows of data in the \"dt\" dataset\n",
    "* select one row of data in the \"dt\" dataset, select the row at index position 16\n",
    "* select the rows in the \"dt\" dataset from index position 0 to 10 (make sure your output includes the row at index 10)\n",
    "* select the rows 0, 10, 20, 30, and 40 from the \"dt\" dataset. What is the name of the individual in row 30?\n",
    "* select the row at index position 33 for only the column in index position 2. What information is given?\n",
    "* select the rows between index positions 0 through 10 - for the columns in positions 0, 4, and 5. "
   ]
  },
  {
   "cell_type": "code",
   "execution_count": null,
   "id": "a00880c9",
   "metadata": {},
   "outputs": [],
   "source": []
  },
  {
   "cell_type": "code",
   "execution_count": null,
   "id": "8b3e2397",
   "metadata": {},
   "outputs": [],
   "source": []
  },
  {
   "cell_type": "code",
   "execution_count": null,
   "id": "4270ac29",
   "metadata": {},
   "outputs": [],
   "source": []
  },
  {
   "cell_type": "code",
   "execution_count": null,
   "id": "38860384",
   "metadata": {},
   "outputs": [],
   "source": []
  },
  {
   "cell_type": "code",
   "execution_count": null,
   "id": "eeab584e",
   "metadata": {},
   "outputs": [],
   "source": []
  },
  {
   "cell_type": "code",
   "execution_count": null,
   "id": "ea6d7c7e",
   "metadata": {},
   "outputs": [],
   "source": []
  },
  {
   "cell_type": "markdown",
   "id": "e5d62dd7",
   "metadata": {},
   "source": [
    "### Indexing and Slicing a Dataset: loc method\n",
    "\n",
    "When you use the loc method (instead of iloc), instead of referencing the index numeric-value -- you reference the label of the row/column. This method has several limitations, and the data will have to be in a specific format to use this method. \n",
    "\n",
    "* The loc method selects rows and columns based on a row or column label. "
   ]
  },
  {
   "cell_type": "code",
   "execution_count": null,
   "id": "71bc7ee5",
   "metadata": {},
   "outputs": [],
   "source": [
    "# changing the index of a dataset\n",
    "\n",
    "df = pd.read_csv(\"pokemon.csv\", index_col = \"Name\")\n",
    "\n",
    "# import the dataset as you saw previously\n",
    "# include the option  >> index_col = \"column name\"\n",
    "\n",
    "df.head()"
   ]
  },
  {
   "cell_type": "code",
   "execution_count": null,
   "id": "f66f5f4c",
   "metadata": {},
   "outputs": [],
   "source": [
    "# instead of calling a row by index number, you will use index label\n",
    "\n",
    "df.loc[\"Pikachu\"]"
   ]
  },
  {
   "cell_type": "code",
   "execution_count": null,
   "id": "e1152a2c",
   "metadata": {},
   "outputs": [],
   "source": [
    "# selecting multiple rows with loc\n",
    "\n",
    "df.loc[[\"Metapod\", \"Weedle\", \"Charmander\"]]"
   ]
  },
  {
   "cell_type": "code",
   "execution_count": null,
   "id": "5e1c6979",
   "metadata": {},
   "outputs": [],
   "source": [
    "# selecting rows and columns\n",
    "\n",
    "df.loc[\"Pikachu\", \"Type 1\"]"
   ]
  },
  {
   "cell_type": "code",
   "execution_count": null,
   "id": "0e9f4b2e",
   "metadata": {},
   "outputs": [],
   "source": [
    "# selecting multiple rows and multiple columns \n",
    "\n",
    "df.loc[[\"Metapod\", \"Weedle\", \"Charmander\"],[\"Type 1\",\"HP\",\"Stage\"]]"
   ]
  },
  {
   "cell_type": "code",
   "execution_count": null,
   "id": "46380862",
   "metadata": {},
   "outputs": [],
   "source": [
    "# selecting all rows or all columns\n",
    "\n",
    "## all rows\n",
    "\n",
    "df.loc[:, [\"Type 1\", \"Stage\"]]"
   ]
  },
  {
   "cell_type": "code",
   "execution_count": null,
   "id": "7e44b3f8",
   "metadata": {},
   "outputs": [],
   "source": [
    "# selecting all rows or all columns\n",
    "\n",
    "## all columns\n",
    "\n",
    "df.loc[[\"Pikachu\", \"Weedle\"], :]"
   ]
  },
  {
   "cell_type": "code",
   "execution_count": null,
   "id": "60a5cfe3",
   "metadata": {},
   "outputs": [],
   "source": [
    "# slicing using loc\n",
    "\n",
    "df.loc[\"Ivysaur\":\"Weedle\", \"Stage\"]"
   ]
  },
  {
   "cell_type": "code",
   "execution_count": null,
   "id": "4c2983a0",
   "metadata": {
    "scrolled": true
   },
   "outputs": [],
   "source": [
    "# slicing using loc\n",
    "\n",
    "df.loc[\"Ivysaur\", \"Type 1\":\"Attack\"]"
   ]
  },
  {
   "cell_type": "markdown",
   "id": "91db0671",
   "metadata": {},
   "source": [
    "## { Exercise 4 }\n",
    "\n",
    "Using the \"dental.csv\" file that you imported in the earlier exercise:\n",
    "\n",
    "* Import the \"dental.csv\" dataset again. This time, change the index to the column \"Last\". Again, nickname the dataset \"dt\". Preview the first five rows of the dataset. Does the index look like you expected?\n",
    "* Select the row with the label \"Hudson\". What information is available for this person?\n",
    "* Select the rows with the labels \"Bailey\", \"Hays\", and \"Taylor\" -- how many individuals in the dataset have one of these last names?\n",
    "* Select the rows with the label \"Compton\" for the columns \"Age\", \"Gender\", \"Insurance\", and \"New Patient\". Is this person a new or existing patient?\n",
    "* It's time to send everyone their outstanding bills! Select all the rows for the columns \"First\" and \"OutstandingBalance\"."
   ]
  },
  {
   "cell_type": "code",
   "execution_count": null,
   "id": "ead123ed",
   "metadata": {},
   "outputs": [],
   "source": []
  },
  {
   "cell_type": "code",
   "execution_count": null,
   "id": "1d702c06",
   "metadata": {},
   "outputs": [],
   "source": []
  },
  {
   "cell_type": "code",
   "execution_count": null,
   "id": "4d315d45",
   "metadata": {},
   "outputs": [],
   "source": []
  },
  {
   "cell_type": "code",
   "execution_count": null,
   "id": "9bdde3d8",
   "metadata": {},
   "outputs": [],
   "source": []
  },
  {
   "cell_type": "code",
   "execution_count": null,
   "id": "f8e0b9b3",
   "metadata": {},
   "outputs": [],
   "source": []
  },
  {
   "cell_type": "markdown",
   "id": "03cb8cbe",
   "metadata": {},
   "source": [
    "#### Exporting Data to .csv file"
   ]
  },
  {
   "cell_type": "code",
   "execution_count": null,
   "id": "626ebc6b",
   "metadata": {},
   "outputs": [],
   "source": [
    "df.to_csv(\"new file.csv\")"
   ]
  },
  {
   "cell_type": "code",
   "execution_count": null,
   "id": "357d97af",
   "metadata": {},
   "outputs": [],
   "source": []
  },
  {
   "cell_type": "markdown",
   "id": "42152f42",
   "metadata": {},
   "source": [
    "## { Module 6 Practice }"
   ]
  },
  {
   "cell_type": "markdown",
   "id": "d6dfc711",
   "metadata": {},
   "source": [
    "#### The Basics\n",
    "\n",
    "* Create a variable that has an integer value and another variable that has a float value.\n",
    "* Print the sum of the two variables you just created.\n",
    "* Write the code to find the type of data each variable contains.\n",
    "* Create a list with all the days of the week. Name it \"days\". Print the list."
   ]
  },
  {
   "cell_type": "code",
   "execution_count": null,
   "id": "2f96a012",
   "metadata": {},
   "outputs": [],
   "source": []
  },
  {
   "cell_type": "markdown",
   "id": "f2f5f254",
   "metadata": {},
   "source": [
    "#### Importing and Inspecting Data\n",
    "\n",
    "* Import the pandas library and nickname it \"pd\"\n",
    "* Import the \"pokemon.csv\" file, nickname the dataset \"pk\"\n",
    "* Inspect the first five rows of \"pk\". What is the name of the first Pokemon listed?\n",
    "* Inspect the last 5 rows of \"pk\". How many rows are there total in the dataset?\n",
    "* Complete the code below to output the summary information about the dataset. How many columns are there total in \"pk\"? In which column(s) do we have miss/NaN values?"
   ]
  },
  {
   "cell_type": "code",
   "execution_count": null,
   "id": "ca1fc6c8",
   "metadata": {},
   "outputs": [],
   "source": []
  },
  {
   "cell_type": "markdown",
   "id": "fc8561d2",
   "metadata": {},
   "source": [
    "#### Subsets and Indexing \n",
    "\n",
    "* It looks like \"pk\" has a lot more information than we need right now. Let's simplfy by only looking at a subset of the original dataset. Write the code to show only the following columns: \"Name\", \"Type 1\", \"Attack\", \"Defense\", and \"Stage\".\n",
    "* Using the iloc function, select the rows from index position 0 to 10, for columns \"Name\" and \"Type 1\".\n",
    "* Using the iloc function, select the rows at index position 0, 10, 20, 30, 45, and 50, for all columns.\n",
    "* Re-import the pokemon dataset and change the index to be the \"Name\" column. Again, nickname this dataset \"pk\". Preview the first five rows of \"pk\" to check if the new index is as expected.\n",
    "* Using the loc function, select the rows with labels: \"Metapod\", \"Weedle\", and \"Mew\" for all columns. Which pokemon has the highest Attack value?\n",
    "* Using the loc function, select the rows with the labels: \"Charmander\", \"Charmeleon\", and \"Charizard\", for the columns with the labels: \"Type 1\", \"Attack\", \"Defense\", and \"Stage\". Which pokemon has the lowest defense value?"
   ]
  },
  {
   "cell_type": "code",
   "execution_count": null,
   "id": "c98758c4",
   "metadata": {},
   "outputs": [],
   "source": []
  },
  {
   "cell_type": "markdown",
   "id": "af1f617c",
   "metadata": {},
   "source": [
    "#### Exporting\n",
    "\n",
    "* Export the pokemon dataset \"pk\" to a csv file. Check the class folder, did the file show up?"
   ]
  },
  {
   "cell_type": "code",
   "execution_count": null,
   "id": "90f88c9b",
   "metadata": {},
   "outputs": [],
   "source": []
  },
  {
   "cell_type": "markdown",
   "id": "d6d59d0e",
   "metadata": {},
   "source": [
    "## { Module 6 Homework }"
   ]
  },
  {
   "cell_type": "markdown",
   "id": "e9f8e9c6",
   "metadata": {},
   "source": [
    "1. Import the pandas library"
   ]
  },
  {
   "cell_type": "code",
   "execution_count": null,
   "id": "904ecb41",
   "metadata": {},
   "outputs": [],
   "source": [
    "import pandas as pd\n"
   ]
  },
  {
   "cell_type": "code",
   "execution_count": 2,
   "id": "724c24c8",
   "metadata": {},
   "outputs": [
    {
     "ename": "NameError",
     "evalue": "name 'pd' is not defined",
     "output_type": "error",
     "traceback": [
      "\u001b[1;31m---------------------------------------------------------------------------\u001b[0m",
      "\u001b[1;31mNameError\u001b[0m                                 Traceback (most recent call last)",
      "Input \u001b[1;32mIn [2]\u001b[0m, in \u001b[0;36m<cell line: 1>\u001b[1;34m()\u001b[0m\n\u001b[1;32m----> 1\u001b[0m df_sales \u001b[38;5;241m=\u001b[39m \u001b[43mpd\u001b[49m\u001b[38;5;241m.\u001b[39mread_csv(\u001b[38;5;124m\"\u001b[39m\u001b[38;5;124maxisdata.csv\u001b[39m\u001b[38;5;124m\"\u001b[39m)\n",
      "\u001b[1;31mNameError\u001b[0m: name 'pd' is not defined"
     ]
    }
   ],
   "source": [
    "df_sales = pd.read_csv(\"axisdata.csv\")"
   ]
  },
  {
   "cell_type": "code",
   "execution_count": 3,
   "id": "17f51353",
   "metadata": {},
   "outputs": [],
   "source": [
    "import pandas as pd\n",
    "\n"
   ]
  },
  {
   "cell_type": "code",
   "execution_count": 4,
   "id": "3e9bf7a5",
   "metadata": {},
   "outputs": [],
   "source": [
    "sales = pd.read_csv(\"axisdata.csv\")"
   ]
  },
  {
   "cell_type": "markdown",
   "id": "73010a50",
   "metadata": {},
   "source": [
    "2. Import the axisdata.csv file (saved to Canvas) and store the dataset in a variable named: sales. This dataset includes information about a sales team for a local company. The dataset includes the following columns:\n",
    "\n",
    "        Fname: first name of the sales person\n",
    "        Lname: last name of the sales person\n",
    "        Gender: gender of the sales person\n",
    "        Hours Worked: hours worked in the last week\n",
    "        SalesTraining: if sales person ever received sales training\n",
    "        Years Experience: total years of sales experience\n",
    "        Cars Sold: number of cars sold in the last week"
   ]
  },
  {
   "cell_type": "code",
   "execution_count": 5,
   "id": "0d97b108",
   "metadata": {},
   "outputs": [
    {
     "data": {
      "text/html": [
       "<div>\n",
       "<style scoped>\n",
       "    .dataframe tbody tr th:only-of-type {\n",
       "        vertical-align: middle;\n",
       "    }\n",
       "\n",
       "    .dataframe tbody tr th {\n",
       "        vertical-align: top;\n",
       "    }\n",
       "\n",
       "    .dataframe thead th {\n",
       "        text-align: right;\n",
       "    }\n",
       "</style>\n",
       "<table border=\"1\" class=\"dataframe\">\n",
       "  <thead>\n",
       "    <tr style=\"text-align: right;\">\n",
       "      <th></th>\n",
       "      <th>Fname</th>\n",
       "      <th>Lname</th>\n",
       "      <th>Gender</th>\n",
       "      <th>Hours Worked</th>\n",
       "      <th>SalesTraining</th>\n",
       "      <th>Years Experience</th>\n",
       "      <th>Cars Sold</th>\n",
       "    </tr>\n",
       "  </thead>\n",
       "  <tbody>\n",
       "    <tr>\n",
       "      <th>0</th>\n",
       "      <td>Jada</td>\n",
       "      <td>Walters</td>\n",
       "      <td>F</td>\n",
       "      <td>39</td>\n",
       "      <td>N</td>\n",
       "      <td>3</td>\n",
       "      <td>2</td>\n",
       "    </tr>\n",
       "    <tr>\n",
       "      <th>1</th>\n",
       "      <td>Nicole</td>\n",
       "      <td>Henderson</td>\n",
       "      <td>F</td>\n",
       "      <td>46</td>\n",
       "      <td>N</td>\n",
       "      <td>3</td>\n",
       "      <td>6</td>\n",
       "    </tr>\n",
       "    <tr>\n",
       "      <th>2</th>\n",
       "      <td>Tanya</td>\n",
       "      <td>Moore</td>\n",
       "      <td>F</td>\n",
       "      <td>42</td>\n",
       "      <td>Y</td>\n",
       "      <td>4</td>\n",
       "      <td>6</td>\n",
       "    </tr>\n",
       "    <tr>\n",
       "      <th>3</th>\n",
       "      <td>Ronelle</td>\n",
       "      <td>Jackson</td>\n",
       "      <td>F</td>\n",
       "      <td>38</td>\n",
       "      <td>Y</td>\n",
       "      <td>5</td>\n",
       "      <td>3</td>\n",
       "    </tr>\n",
       "    <tr>\n",
       "      <th>4</th>\n",
       "      <td>Brad</td>\n",
       "      <td>Sears</td>\n",
       "      <td>M</td>\n",
       "      <td>33</td>\n",
       "      <td>N</td>\n",
       "      <td>4</td>\n",
       "      <td>2</td>\n",
       "    </tr>\n",
       "    <tr>\n",
       "      <th>5</th>\n",
       "      <td>Jackie</td>\n",
       "      <td>Rogers</td>\n",
       "      <td>F</td>\n",
       "      <td>45</td>\n",
       "      <td>Y</td>\n",
       "      <td>5</td>\n",
       "      <td>3</td>\n",
       "    </tr>\n",
       "    <tr>\n",
       "      <th>6</th>\n",
       "      <td>Oliver</td>\n",
       "      <td>Vaughn</td>\n",
       "      <td>M</td>\n",
       "      <td>46</td>\n",
       "      <td>N</td>\n",
       "      <td>5</td>\n",
       "      <td>3</td>\n",
       "    </tr>\n",
       "    <tr>\n",
       "      <th>7</th>\n",
       "      <td>Carla</td>\n",
       "      <td>Sapp</td>\n",
       "      <td>F</td>\n",
       "      <td>39</td>\n",
       "      <td>Y</td>\n",
       "      <td>3</td>\n",
       "      <td>6</td>\n",
       "    </tr>\n",
       "    <tr>\n",
       "      <th>8</th>\n",
       "      <td>Karen</td>\n",
       "      <td>Moore</td>\n",
       "      <td>F</td>\n",
       "      <td>33</td>\n",
       "      <td>Y</td>\n",
       "      <td>2</td>\n",
       "      <td>5</td>\n",
       "    </tr>\n",
       "    <tr>\n",
       "      <th>9</th>\n",
       "      <td>Roger</td>\n",
       "      <td>Kane</td>\n",
       "      <td>M</td>\n",
       "      <td>38</td>\n",
       "      <td>N</td>\n",
       "      <td>4</td>\n",
       "      <td>5</td>\n",
       "    </tr>\n",
       "    <tr>\n",
       "      <th>10</th>\n",
       "      <td>Jackie</td>\n",
       "      <td>Jackson</td>\n",
       "      <td>F</td>\n",
       "      <td>32</td>\n",
       "      <td>Y</td>\n",
       "      <td>1</td>\n",
       "      <td>3</td>\n",
       "    </tr>\n",
       "  </tbody>\n",
       "</table>\n",
       "</div>"
      ],
      "text/plain": [
       "      Fname      Lname Gender  Hours Worked SalesTraining  Years Experience  \\\n",
       "0      Jada   Walters       F            39             N                 3   \n",
       "1    Nicole  Henderson      F            46             N                 3   \n",
       "2     Tanya      Moore      F            42             Y                 4   \n",
       "3   Ronelle    Jackson      F            38             Y                 5   \n",
       "4      Brad      Sears      M            33             N                 4   \n",
       "5    Jackie     Rogers      F            45             Y                 5   \n",
       "6    Oliver     Vaughn      M            46             N                 5   \n",
       "7     Carla       Sapp      F            39             Y                 3   \n",
       "8     Karen      Moore      F            33             Y                 2   \n",
       "9     Roger       Kane      M            38             N                 4   \n",
       "10   Jackie    Jackson      F            32             Y                 1   \n",
       "\n",
       "    Cars Sold  \n",
       "0           2  \n",
       "1           6  \n",
       "2           6  \n",
       "3           3  \n",
       "4           2  \n",
       "5           3  \n",
       "6           3  \n",
       "7           6  \n",
       "8           5  \n",
       "9           5  \n",
       "10          3  "
      ]
     },
     "execution_count": 5,
     "metadata": {},
     "output_type": "execute_result"
    }
   ],
   "source": [
    "sales.head(11)"
   ]
  },
  {
   "cell_type": "markdown",
   "id": "51f655e3",
   "metadata": {},
   "source": [
    "3. Inspect the first 10 rows of the dataset \"sales\". What is the full name of the very first sales person?"
   ]
  },
  {
   "cell_type": "code",
   "execution_count": null,
   "id": "50f6816a",
   "metadata": {},
   "outputs": [],
   "source": [
    "Jada Walters"
   ]
  },
  {
   "cell_type": "markdown",
   "id": "1ecedc5c",
   "metadata": {},
   "source": [
    "4. Inspect the last 5 rows of the dataset sales. How many rows are there in total in our dataset?"
   ]
  },
  {
   "cell_type": "code",
   "execution_count": 6,
   "id": "bb144673",
   "metadata": {},
   "outputs": [
    {
     "data": {
      "text/html": [
       "<div>\n",
       "<style scoped>\n",
       "    .dataframe tbody tr th:only-of-type {\n",
       "        vertical-align: middle;\n",
       "    }\n",
       "\n",
       "    .dataframe tbody tr th {\n",
       "        vertical-align: top;\n",
       "    }\n",
       "\n",
       "    .dataframe thead th {\n",
       "        text-align: right;\n",
       "    }\n",
       "</style>\n",
       "<table border=\"1\" class=\"dataframe\">\n",
       "  <thead>\n",
       "    <tr style=\"text-align: right;\">\n",
       "      <th></th>\n",
       "      <th>Fname</th>\n",
       "      <th>Lname</th>\n",
       "      <th>Gender</th>\n",
       "      <th>Hours Worked</th>\n",
       "      <th>SalesTraining</th>\n",
       "      <th>Years Experience</th>\n",
       "      <th>Cars Sold</th>\n",
       "    </tr>\n",
       "  </thead>\n",
       "  <tbody>\n",
       "    <tr>\n",
       "      <th>993</th>\n",
       "      <td>Harold</td>\n",
       "      <td>Ettienne</td>\n",
       "      <td>M</td>\n",
       "      <td>35</td>\n",
       "      <td>Y</td>\n",
       "      <td>2</td>\n",
       "      <td>5</td>\n",
       "    </tr>\n",
       "    <tr>\n",
       "      <th>994</th>\n",
       "      <td>Victor</td>\n",
       "      <td>Kane</td>\n",
       "      <td>M</td>\n",
       "      <td>22</td>\n",
       "      <td>Y</td>\n",
       "      <td>5</td>\n",
       "      <td>4</td>\n",
       "    </tr>\n",
       "    <tr>\n",
       "      <th>995</th>\n",
       "      <td>Charles</td>\n",
       "      <td>Turner</td>\n",
       "      <td>M</td>\n",
       "      <td>45</td>\n",
       "      <td>N</td>\n",
       "      <td>1</td>\n",
       "      <td>4</td>\n",
       "    </tr>\n",
       "    <tr>\n",
       "      <th>996</th>\n",
       "      <td>August</td>\n",
       "      <td>Franklin</td>\n",
       "      <td>F</td>\n",
       "      <td>34</td>\n",
       "      <td>Y</td>\n",
       "      <td>4</td>\n",
       "      <td>3</td>\n",
       "    </tr>\n",
       "    <tr>\n",
       "      <th>997</th>\n",
       "      <td>Victoria</td>\n",
       "      <td>Rogers</td>\n",
       "      <td>F</td>\n",
       "      <td>29</td>\n",
       "      <td>N</td>\n",
       "      <td>5</td>\n",
       "      <td>1</td>\n",
       "    </tr>\n",
       "    <tr>\n",
       "      <th>998</th>\n",
       "      <td>Mike</td>\n",
       "      <td>Gerardo</td>\n",
       "      <td>M</td>\n",
       "      <td>20</td>\n",
       "      <td>N</td>\n",
       "      <td>3</td>\n",
       "      <td>3</td>\n",
       "    </tr>\n",
       "  </tbody>\n",
       "</table>\n",
       "</div>"
      ],
      "text/plain": [
       "        Fname     Lname Gender  Hours Worked SalesTraining  Years Experience  \\\n",
       "993    Harold  Ettienne      M            35             Y                 2   \n",
       "994    Victor      Kane      M            22             Y                 5   \n",
       "995   Charles    Turner      M            45             N                 1   \n",
       "996    August  Franklin      F            34             Y                 4   \n",
       "997  Victoria    Rogers      F            29             N                 5   \n",
       "998      Mike   Gerardo      M            20             N                 3   \n",
       "\n",
       "     Cars Sold  \n",
       "993          5  \n",
       "994          4  \n",
       "995          4  \n",
       "996          3  \n",
       "997          1  \n",
       "998          3  "
      ]
     },
     "execution_count": 6,
     "metadata": {},
     "output_type": "execute_result"
    }
   ],
   "source": [
    "sales.tail(6)"
   ]
  },
  {
   "cell_type": "code",
   "execution_count": null,
   "id": "198a930d",
   "metadata": {},
   "outputs": [],
   "source": [
    "There are 998 rows."
   ]
  },
  {
   "cell_type": "markdown",
   "id": "1efcac9a",
   "metadata": {},
   "source": [
    "5. Write the code to find the information about the dataset. How many columns are there total? In which column(s) do we have missing/NaN values?"
   ]
  },
  {
   "cell_type": "code",
   "execution_count": 7,
   "id": "ec3075dd",
   "metadata": {},
   "outputs": [
    {
     "name": "stdout",
     "output_type": "stream",
     "text": [
      "<class 'pandas.core.frame.DataFrame'>\n",
      "RangeIndex: 999 entries, 0 to 998\n",
      "Data columns (total 7 columns):\n",
      " #   Column            Non-Null Count  Dtype \n",
      "---  ------            --------------  ----- \n",
      " 0   Fname             999 non-null    object\n",
      " 1   Lname             999 non-null    object\n",
      " 2   Gender            999 non-null    object\n",
      " 3   Hours Worked      999 non-null    int64 \n",
      " 4   SalesTraining     999 non-null    object\n",
      " 5   Years Experience  999 non-null    int64 \n",
      " 6   Cars Sold         999 non-null    int64 \n",
      "dtypes: int64(3), object(4)\n",
      "memory usage: 54.8+ KB\n"
     ]
    }
   ],
   "source": [
    "sales.info()"
   ]
  },
  {
   "cell_type": "code",
   "execution_count": null,
   "id": "138f5288",
   "metadata": {},
   "outputs": [],
   "source": [
    "There are 7 columns. # None of the info showed me NaN values.  The d types are: int64(3) and object (4)."
   ]
  },
  {
   "cell_type": "code",
   "execution_count": null,
   "id": "ecd57d4a",
   "metadata": {},
   "outputs": [],
   "source": []
  },
  {
   "cell_type": "markdown",
   "id": "3406dde0",
   "metadata": {},
   "source": [
    "6. Write the code to get summary statistics for our dataset. What is the maximum value in column Hours Worked? What is the minimum value in column Years Experience? What is the average value in column Cars Sold?"
   ]
  },
  {
   "cell_type": "code",
   "execution_count": 8,
   "id": "7cf57c90",
   "metadata": {},
   "outputs": [
    {
     "ename": "KeyError",
     "evalue": "\"None of [Index(['Hours Worked'], dtype='object')] are in the [index]\"",
     "output_type": "error",
     "traceback": [
      "\u001b[1;31m---------------------------------------------------------------------------\u001b[0m",
      "\u001b[1;31mKeyError\u001b[0m                                  Traceback (most recent call last)",
      "Input \u001b[1;32mIn [8]\u001b[0m, in \u001b[0;36m<cell line: 1>\u001b[1;34m()\u001b[0m\n\u001b[1;32m----> 1\u001b[0m \u001b[43msales\u001b[49m\u001b[38;5;241;43m.\u001b[39;49m\u001b[43mloc\u001b[49m\u001b[43m \u001b[49m\u001b[43m[\u001b[49m\u001b[43m[\u001b[49m\u001b[38;5;124;43m\"\u001b[39;49m\u001b[38;5;124;43mHours Worked\u001b[39;49m\u001b[38;5;124;43m\"\u001b[39;49m\u001b[43m]\u001b[49m\u001b[43m]\u001b[49m\n",
      "File \u001b[1;32m~\\OneDrive\\Documents\\ANACONDA\\lib\\site-packages\\pandas\\core\\indexing.py:967\u001b[0m, in \u001b[0;36m_LocationIndexer.__getitem__\u001b[1;34m(self, key)\u001b[0m\n\u001b[0;32m    964\u001b[0m axis \u001b[38;5;241m=\u001b[39m \u001b[38;5;28mself\u001b[39m\u001b[38;5;241m.\u001b[39maxis \u001b[38;5;129;01mor\u001b[39;00m \u001b[38;5;241m0\u001b[39m\n\u001b[0;32m    966\u001b[0m maybe_callable \u001b[38;5;241m=\u001b[39m com\u001b[38;5;241m.\u001b[39mapply_if_callable(key, \u001b[38;5;28mself\u001b[39m\u001b[38;5;241m.\u001b[39mobj)\n\u001b[1;32m--> 967\u001b[0m \u001b[38;5;28;01mreturn\u001b[39;00m \u001b[38;5;28;43mself\u001b[39;49m\u001b[38;5;241;43m.\u001b[39;49m\u001b[43m_getitem_axis\u001b[49m\u001b[43m(\u001b[49m\u001b[43mmaybe_callable\u001b[49m\u001b[43m,\u001b[49m\u001b[43m \u001b[49m\u001b[43maxis\u001b[49m\u001b[38;5;241;43m=\u001b[39;49m\u001b[43maxis\u001b[49m\u001b[43m)\u001b[49m\n",
      "File \u001b[1;32m~\\OneDrive\\Documents\\ANACONDA\\lib\\site-packages\\pandas\\core\\indexing.py:1191\u001b[0m, in \u001b[0;36m_LocIndexer._getitem_axis\u001b[1;34m(self, key, axis)\u001b[0m\n\u001b[0;32m   1188\u001b[0m     \u001b[38;5;28;01mif\u001b[39;00m \u001b[38;5;28mhasattr\u001b[39m(key, \u001b[38;5;124m\"\u001b[39m\u001b[38;5;124mndim\u001b[39m\u001b[38;5;124m\"\u001b[39m) \u001b[38;5;129;01mand\u001b[39;00m key\u001b[38;5;241m.\u001b[39mndim \u001b[38;5;241m>\u001b[39m \u001b[38;5;241m1\u001b[39m:\n\u001b[0;32m   1189\u001b[0m         \u001b[38;5;28;01mraise\u001b[39;00m \u001b[38;5;167;01mValueError\u001b[39;00m(\u001b[38;5;124m\"\u001b[39m\u001b[38;5;124mCannot index with multidimensional key\u001b[39m\u001b[38;5;124m\"\u001b[39m)\n\u001b[1;32m-> 1191\u001b[0m     \u001b[38;5;28;01mreturn\u001b[39;00m \u001b[38;5;28;43mself\u001b[39;49m\u001b[38;5;241;43m.\u001b[39;49m\u001b[43m_getitem_iterable\u001b[49m\u001b[43m(\u001b[49m\u001b[43mkey\u001b[49m\u001b[43m,\u001b[49m\u001b[43m \u001b[49m\u001b[43maxis\u001b[49m\u001b[38;5;241;43m=\u001b[39;49m\u001b[43maxis\u001b[49m\u001b[43m)\u001b[49m\n\u001b[0;32m   1193\u001b[0m \u001b[38;5;66;03m# nested tuple slicing\u001b[39;00m\n\u001b[0;32m   1194\u001b[0m \u001b[38;5;28;01mif\u001b[39;00m is_nested_tuple(key, labels):\n",
      "File \u001b[1;32m~\\OneDrive\\Documents\\ANACONDA\\lib\\site-packages\\pandas\\core\\indexing.py:1132\u001b[0m, in \u001b[0;36m_LocIndexer._getitem_iterable\u001b[1;34m(self, key, axis)\u001b[0m\n\u001b[0;32m   1129\u001b[0m \u001b[38;5;28mself\u001b[39m\u001b[38;5;241m.\u001b[39m_validate_key(key, axis)\n\u001b[0;32m   1131\u001b[0m \u001b[38;5;66;03m# A collection of keys\u001b[39;00m\n\u001b[1;32m-> 1132\u001b[0m keyarr, indexer \u001b[38;5;241m=\u001b[39m \u001b[38;5;28;43mself\u001b[39;49m\u001b[38;5;241;43m.\u001b[39;49m\u001b[43m_get_listlike_indexer\u001b[49m\u001b[43m(\u001b[49m\u001b[43mkey\u001b[49m\u001b[43m,\u001b[49m\u001b[43m \u001b[49m\u001b[43maxis\u001b[49m\u001b[43m)\u001b[49m\n\u001b[0;32m   1133\u001b[0m \u001b[38;5;28;01mreturn\u001b[39;00m \u001b[38;5;28mself\u001b[39m\u001b[38;5;241m.\u001b[39mobj\u001b[38;5;241m.\u001b[39m_reindex_with_indexers(\n\u001b[0;32m   1134\u001b[0m     {axis: [keyarr, indexer]}, copy\u001b[38;5;241m=\u001b[39m\u001b[38;5;28;01mTrue\u001b[39;00m, allow_dups\u001b[38;5;241m=\u001b[39m\u001b[38;5;28;01mTrue\u001b[39;00m\n\u001b[0;32m   1135\u001b[0m )\n",
      "File \u001b[1;32m~\\OneDrive\\Documents\\ANACONDA\\lib\\site-packages\\pandas\\core\\indexing.py:1327\u001b[0m, in \u001b[0;36m_LocIndexer._get_listlike_indexer\u001b[1;34m(self, key, axis)\u001b[0m\n\u001b[0;32m   1324\u001b[0m ax \u001b[38;5;241m=\u001b[39m \u001b[38;5;28mself\u001b[39m\u001b[38;5;241m.\u001b[39mobj\u001b[38;5;241m.\u001b[39m_get_axis(axis)\n\u001b[0;32m   1325\u001b[0m axis_name \u001b[38;5;241m=\u001b[39m \u001b[38;5;28mself\u001b[39m\u001b[38;5;241m.\u001b[39mobj\u001b[38;5;241m.\u001b[39m_get_axis_name(axis)\n\u001b[1;32m-> 1327\u001b[0m keyarr, indexer \u001b[38;5;241m=\u001b[39m \u001b[43max\u001b[49m\u001b[38;5;241;43m.\u001b[39;49m\u001b[43m_get_indexer_strict\u001b[49m\u001b[43m(\u001b[49m\u001b[43mkey\u001b[49m\u001b[43m,\u001b[49m\u001b[43m \u001b[49m\u001b[43maxis_name\u001b[49m\u001b[43m)\u001b[49m\n\u001b[0;32m   1329\u001b[0m \u001b[38;5;28;01mreturn\u001b[39;00m keyarr, indexer\n",
      "File \u001b[1;32m~\\OneDrive\\Documents\\ANACONDA\\lib\\site-packages\\pandas\\core\\indexes\\base.py:5782\u001b[0m, in \u001b[0;36mIndex._get_indexer_strict\u001b[1;34m(self, key, axis_name)\u001b[0m\n\u001b[0;32m   5779\u001b[0m \u001b[38;5;28;01melse\u001b[39;00m:\n\u001b[0;32m   5780\u001b[0m     keyarr, indexer, new_indexer \u001b[38;5;241m=\u001b[39m \u001b[38;5;28mself\u001b[39m\u001b[38;5;241m.\u001b[39m_reindex_non_unique(keyarr)\n\u001b[1;32m-> 5782\u001b[0m \u001b[38;5;28;43mself\u001b[39;49m\u001b[38;5;241;43m.\u001b[39;49m\u001b[43m_raise_if_missing\u001b[49m\u001b[43m(\u001b[49m\u001b[43mkeyarr\u001b[49m\u001b[43m,\u001b[49m\u001b[43m \u001b[49m\u001b[43mindexer\u001b[49m\u001b[43m,\u001b[49m\u001b[43m \u001b[49m\u001b[43maxis_name\u001b[49m\u001b[43m)\u001b[49m\n\u001b[0;32m   5784\u001b[0m keyarr \u001b[38;5;241m=\u001b[39m \u001b[38;5;28mself\u001b[39m\u001b[38;5;241m.\u001b[39mtake(indexer)\n\u001b[0;32m   5785\u001b[0m \u001b[38;5;28;01mif\u001b[39;00m \u001b[38;5;28misinstance\u001b[39m(key, Index):\n\u001b[0;32m   5786\u001b[0m     \u001b[38;5;66;03m# GH 42790 - Preserve name from an Index\u001b[39;00m\n",
      "File \u001b[1;32m~\\OneDrive\\Documents\\ANACONDA\\lib\\site-packages\\pandas\\core\\indexes\\base.py:5842\u001b[0m, in \u001b[0;36mIndex._raise_if_missing\u001b[1;34m(self, key, indexer, axis_name)\u001b[0m\n\u001b[0;32m   5840\u001b[0m     \u001b[38;5;28;01mif\u001b[39;00m use_interval_msg:\n\u001b[0;32m   5841\u001b[0m         key \u001b[38;5;241m=\u001b[39m \u001b[38;5;28mlist\u001b[39m(key)\n\u001b[1;32m-> 5842\u001b[0m     \u001b[38;5;28;01mraise\u001b[39;00m \u001b[38;5;167;01mKeyError\u001b[39;00m(\u001b[38;5;124mf\u001b[39m\u001b[38;5;124m\"\u001b[39m\u001b[38;5;124mNone of [\u001b[39m\u001b[38;5;132;01m{\u001b[39;00mkey\u001b[38;5;132;01m}\u001b[39;00m\u001b[38;5;124m] are in the [\u001b[39m\u001b[38;5;132;01m{\u001b[39;00maxis_name\u001b[38;5;132;01m}\u001b[39;00m\u001b[38;5;124m]\u001b[39m\u001b[38;5;124m\"\u001b[39m)\n\u001b[0;32m   5844\u001b[0m not_found \u001b[38;5;241m=\u001b[39m \u001b[38;5;28mlist\u001b[39m(ensure_index(key)[missing_mask\u001b[38;5;241m.\u001b[39mnonzero()[\u001b[38;5;241m0\u001b[39m]]\u001b[38;5;241m.\u001b[39munique())\n\u001b[0;32m   5845\u001b[0m \u001b[38;5;28;01mraise\u001b[39;00m \u001b[38;5;167;01mKeyError\u001b[39;00m(\u001b[38;5;124mf\u001b[39m\u001b[38;5;124m\"\u001b[39m\u001b[38;5;132;01m{\u001b[39;00mnot_found\u001b[38;5;132;01m}\u001b[39;00m\u001b[38;5;124m not in index\u001b[39m\u001b[38;5;124m\"\u001b[39m)\n",
      "\u001b[1;31mKeyError\u001b[0m: \"None of [Index(['Hours Worked'], dtype='object')] are in the [index]\""
     ]
    }
   ],
   "source": [
    "sales.loc [[\"Hours Worked\"]]"
   ]
  },
  {
   "cell_type": "code",
   "execution_count": null,
   "id": "21e483d6",
   "metadata": {},
   "outputs": [],
   "source": []
  },
  {
   "cell_type": "code",
   "execution_count": 9,
   "id": "a5df4095",
   "metadata": {},
   "outputs": [
    {
     "data": {
      "text/plain": [
       "0      39\n",
       "1      46\n",
       "2      42\n",
       "3      38\n",
       "4      33\n",
       "       ..\n",
       "994    22\n",
       "995    45\n",
       "996    34\n",
       "997    29\n",
       "998    20\n",
       "Name: Hours Worked, Length: 999, dtype: int64"
      ]
     },
     "execution_count": 9,
     "metadata": {},
     "output_type": "execute_result"
    }
   ],
   "source": [
    "sales [\"Hours Worked\"]"
   ]
  },
  {
   "cell_type": "code",
   "execution_count": null,
   "id": "7ba1bd98",
   "metadata": {},
   "outputs": [],
   "source": [
    "# Write the code to get summary statistics for our dataset. \n",
    "# What is the maximum value in column Hours Worked? \n",
    "# What is the minimum value in column Years Experience? \n",
    "# What is the average value in column Cars Sold?"
   ]
  },
  {
   "cell_type": "code",
   "execution_count": 10,
   "id": "01821aed",
   "metadata": {},
   "outputs": [],
   "source": [
    "sales = [[\"Hours Worked\", \"Years Experience\", \"Cars Sold\"]]"
   ]
  },
  {
   "cell_type": "code",
   "execution_count": 11,
   "id": "4f2e6c5d",
   "metadata": {},
   "outputs": [],
   "source": [
    "sales = (\"Hours Worked\", \"Years Experience\", \"Cars Sold\")"
   ]
  },
  {
   "cell_type": "code",
   "execution_count": 12,
   "id": "221918ff",
   "metadata": {},
   "outputs": [],
   "source": [
    "sales = [\"Hours Worked\", \"Years Experience\", \"Cars Sold\"]"
   ]
  },
  {
   "cell_type": "markdown",
   "id": "cb364e31",
   "metadata": {},
   "source": [
    "7. Using the sales dataset, select/display only the Lname column without using iloc or loc. What is the last name of the second sales person?"
   ]
  },
  {
   "cell_type": "code",
   "execution_count": 13,
   "id": "62ee325f",
   "metadata": {},
   "outputs": [],
   "source": [
    "sales = [[\"Lname\"]]"
   ]
  },
  {
   "cell_type": "code",
   "execution_count": 14,
   "id": "5a1d63b7",
   "metadata": {},
   "outputs": [],
   "source": [
    "sales = (\"Lname\")"
   ]
  },
  {
   "cell_type": "code",
   "execution_count": 15,
   "id": "c83d53b4",
   "metadata": {},
   "outputs": [],
   "source": [
    "sales = [\"Lname\"]"
   ]
  },
  {
   "cell_type": "code",
   "execution_count": 16,
   "id": "0a3e631b",
   "metadata": {},
   "outputs": [],
   "source": [
    "import pandas as pd"
   ]
  },
  {
   "cell_type": "code",
   "execution_count": 18,
   "id": "e156b3d8",
   "metadata": {},
   "outputs": [],
   "source": [
    "sales = pd.read_csv(\"axisdata.csv\")"
   ]
  },
  {
   "cell_type": "markdown",
   "id": "06435e0d",
   "metadata": {},
   "source": [
    "8. Look at the sales dataset at index position 100 with the iloc operation. How many hours has this sales person worked in the past week?"
   ]
  },
  {
   "cell_type": "code",
   "execution_count": null,
   "id": "e402d77c",
   "metadata": {},
   "outputs": [],
   "source": []
  },
  {
   "cell_type": "markdown",
   "id": "8df3cbe9",
   "metadata": {},
   "source": [
    "9. Look at the sales dataset at index position 35 with the iloc operation. Only select for the column \"Cars Sold\". How many cars did this sales person sell in the past week?"
   ]
  },
  {
   "cell_type": "code",
   "execution_count": null,
   "id": "3bcb7e2e",
   "metadata": {},
   "outputs": [],
   "source": []
  },
  {
   "cell_type": "markdown",
   "id": "1e212e3f",
   "metadata": {},
   "source": [
    "10. Select the last 7 rows and the columns: fname, gender, and years experience with the iloc operation. How many women are there in this subset? How many years of experience does the last sales person have?"
   ]
  },
  {
   "cell_type": "code",
   "execution_count": null,
   "id": "1326441b",
   "metadata": {},
   "outputs": [],
   "source": []
  },
  {
   "cell_type": "markdown",
   "id": "e769b20c",
   "metadata": {},
   "source": [
    "11. Write the code below to re-import the axisdata.csv file as \"sales\". This time, change the index from the default to the column \"Lname\"."
   ]
  },
  {
   "cell_type": "code",
   "execution_count": null,
   "id": "465eab91",
   "metadata": {},
   "outputs": [],
   "source": []
  },
  {
   "cell_type": "markdown",
   "id": "5c30b971",
   "metadata": {},
   "source": [
    "12. Write the code to examine the first 5 rows of the sales dataset. Is the index the column that you wanted?"
   ]
  },
  {
   "cell_type": "code",
   "execution_count": null,
   "id": "30fdabda",
   "metadata": {},
   "outputs": [],
   "source": []
  },
  {
   "cell_type": "markdown",
   "id": "cb30d972",
   "metadata": {},
   "source": [
    "13. Select the row with the index label \"Monroe\" using the loc operation. How many sales people have not completed sales training?"
   ]
  },
  {
   "cell_type": "code",
   "execution_count": null,
   "id": "90ffb999",
   "metadata": {},
   "outputs": [],
   "source": []
  },
  {
   "cell_type": "markdown",
   "id": "0efd6dd8",
   "metadata": {},
   "source": [
    "14. Select the row with the index label \"Sears\" and the columns \"Gender\" and \"Hours Worked\", using the loc operation. How many hours did the first two sales people work?"
   ]
  },
  {
   "cell_type": "code",
   "execution_count": null,
   "id": "9570e8eb",
   "metadata": {},
   "outputs": [],
   "source": []
  },
  {
   "cell_type": "markdown",
   "id": "d950ad2e",
   "metadata": {},
   "source": [
    "15. Select the columns \"Fname\" and \"Years Experience\" for all rows using the loc operation."
   ]
  },
  {
   "cell_type": "code",
   "execution_count": null,
   "id": "160eed97",
   "metadata": {},
   "outputs": [],
   "source": []
  },
  {
   "cell_type": "markdown",
   "id": "e3dd038d",
   "metadata": {},
   "source": [
    "16. Export your \"sales\" dataset to a .csv file called \"Module 6 HW\"."
   ]
  },
  {
   "cell_type": "code",
   "execution_count": null,
   "id": "bffc3321",
   "metadata": {},
   "outputs": [],
   "source": []
  }
 ],
 "metadata": {
  "kernelspec": {
   "display_name": "Python 3 (ipykernel)",
   "language": "python",
   "name": "python3"
  },
  "language_info": {
   "codemirror_mode": {
    "name": "ipython",
    "version": 3
   },
   "file_extension": ".py",
   "mimetype": "text/x-python",
   "name": "python",
   "nbconvert_exporter": "python",
   "pygments_lexer": "ipython3",
   "version": "3.9.12"
  }
 },
 "nbformat": 4,
 "nbformat_minor": 5
}
